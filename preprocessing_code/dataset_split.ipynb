{
 "cells": [
  {
   "cell_type": "code",
   "execution_count": 1,
   "metadata": {},
   "outputs": [],
   "source": [
    "import os\n",
    "import random\n",
    "import shutil"
   ]
  },
  {
   "cell_type": "code",
   "execution_count": 2,
   "metadata": {},
   "outputs": [],
   "source": [
    "# Set the seed for reproducibility\n",
    "random.seed(42)  # You can replace 42 with your desired seed value\n",
    "\n",
    "dst_directory = r\"D:\\Preparing for the exchange (R&D)\\Research Files\\Curated Dataset\\Split\"\n",
    "src_directory = r\"D:\\Preparing for the exchange (R&D)\\Research Files\\Curated Dataset\\Augmented Dataset\"\n",
    "class_directories = [\"boneanomaly\", \"fracture\", \"metal\", \"softtissue\"]\n",
    "train_ratio = 0.8\n",
    "test_ratio = 0.2"
   ]
  },
  {
   "cell_type": "code",
   "execution_count": 7,
   "metadata": {},
   "outputs": [],
   "source": [
    "# Create train, val, and test directories\n",
    "os.makedirs(os.path.join(dst_directory, \"train\"))\n",
    "os.makedirs(os.path.join(dst_directory, \"test\"))"
   ]
  },
  {
   "cell_type": "code",
   "execution_count": 9,
   "metadata": {},
   "outputs": [],
   "source": [
    "for class_dir in class_directories:\n",
    "    class_path = os.path.join(src_directory, class_dir)\n",
    "    train_path = os.path.join(dst_directory, \"train\", class_dir)\n",
    "    test_path = os.path.join(dst_directory, \"test\", class_dir)\n",
    "\n",
    "    os.makedirs(train_path)\n",
    "    os.makedirs(test_path)\n",
    "\n",
    "    files = os.listdir(class_path)\n",
    "    random.shuffle(files)\n",
    "\n",
    "    total_files = len(files)\n",
    "    train_split = int(total_files * train_ratio)\n",
    "    test_split = int(total_files * test_ratio)\n",
    "\n",
    "    train_files = files[:train_split]\n",
    "    test_files = files[train_split:]\n",
    "\n",
    "    for file in train_files:\n",
    "        src = os.path.join(class_path, file)\n",
    "        dst = os.path.join(train_path, file)\n",
    "        shutil.move(src, dst)\n",
    "\n",
    "    for file in test_files:\n",
    "        src = os.path.join(class_path, file)\n",
    "        dst = os.path.join(test_path, file)\n",
    "        shutil.move(src, dst)"
   ]
  }
 ],
 "metadata": {
  "kernelspec": {
   "display_name": "Python 3",
   "language": "python",
   "name": "python3"
  },
  "language_info": {
   "codemirror_mode": {
    "name": "ipython",
    "version": 3
   },
   "file_extension": ".py",
   "mimetype": "text/x-python",
   "name": "python",
   "nbconvert_exporter": "python",
   "pygments_lexer": "ipython3",
   "version": "3.10.5"
  },
  "orig_nbformat": 4,
  "vscode": {
   "interpreter": {
    "hash": "7c2737f5cd3eb6a237b7123ce75c641d6f975db18b0c0702ad2055474d78171c"
   }
  }
 },
 "nbformat": 4,
 "nbformat_minor": 2
}
